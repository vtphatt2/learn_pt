{
 "cells": [
  {
   "cell_type": "markdown",
   "metadata": {},
   "source": [
    "# A PyTorch workflow\n",
    "\n",
    "1. Get data ready and turn into tensors\n",
    "\n",
    "2. Build or pick a pretrained model\n",
    "\n",
    "3. Fit the model to the data and make a prediction\n",
    "\n",
    "4. Evaluate the model\n",
    "\n",
    "5. Improve through experimentation\n",
    "\n",
    "6. Save and reload the trained model"
   ]
  },
  {
   "cell_type": "code",
   "execution_count": 1,
   "metadata": {},
   "outputs": [
    {
     "data": {
      "text/plain": [
       "'2.4.0'"
      ]
     },
     "execution_count": 1,
     "metadata": {},
     "output_type": "execute_result"
    }
   ],
   "source": [
    "import torch\n",
    "from torch import nn\n",
    "import matplotlib.pyplot as plt\n",
    "\n",
    "torch.__version__"
   ]
  },
  {
   "cell_type": "markdown",
   "metadata": {},
   "source": [
    "# 1. Data (preparing and loading)\n",
    "\n",
    "This steps contains of two parts:\n",
    "- Turn your data, whatever it is, into numbers (a representation).\n",
    "- Pick or build a model to learn the representation as best as possible."
   ]
  },
  {
   "cell_type": "code",
   "execution_count": 2,
   "metadata": {},
   "outputs": [],
   "source": [
    "weight = 0.5\n",
    "bias = 0.4\n",
    "\n",
    "start = 0\n",
    "end = 1\n",
    "step = 0.02\n",
    "\n",
    "X = torch.arange(start, end, step).unsqueeze(dim=1)     # features\n",
    "y = weight * X + bias                                   # labels"
   ]
  },
  {
   "cell_type": "code",
   "execution_count": 3,
   "metadata": {},
   "outputs": [
    {
     "data": {
      "text/plain": [
       "(40, 40, 10, 10)"
      ]
     },
     "execution_count": 3,
     "metadata": {},
     "output_type": "execute_result"
    }
   ],
   "source": [
    "# Create train/test split\n",
    "train_split = int(0.8 * len(X))\n",
    "\n",
    "# Shuffle the data\n",
    "indices = torch.randperm(len(X))\n",
    "X = X[indices]\n",
    "y = y[indices]\n",
    "\n",
    "X_train, y_train = X[:train_split], y[:train_split]\n",
    "X_test, y_test = X[train_split:], y[train_split:]\n",
    "\n",
    "len(X_train), len(y_train), len(X_test), len(y_test)"
   ]
  },
  {
   "cell_type": "markdown",
   "metadata": {},
   "source": [
    "The model we create is going to try and learn the relationship between `X_train` & `y_train` and then we will evaluate what it learns on `X_test` and `y_test`."
   ]
  },
  {
   "cell_type": "code",
   "execution_count": 4,
   "metadata": {},
   "outputs": [
    {
     "data": {
      "image/png": "[encoded data removed]",
      "text/plain": [
       "<Figure size 1000x700 with 1 Axes>"
      ]
     },
     "metadata": {},
     "output_type": "display_data"
    }
   ],
   "source": [
    "def plot_predictions(train_data=X_train, \n",
    "                     train_labels=y_train, \n",
    "                     test_data=X_test, \n",
    "                     test_labels=y_test, \n",
    "                     predictions=None):\n",
    "\n",
    "    plt.figure(figsize=(10, 7))\n",
    "\n",
    "    # Plot training data in blue\n",
    "    plt.scatter(train_data, train_labels, c=\"b\", s=4, label=\"Training data\")\n",
    "    \n",
    "    # Plot test data in green\n",
    "    plt.scatter(test_data, test_labels, c=\"g\", s=4, label=\"Testing data\")\n",
    "\n",
    "    if predictions is not None:\n",
    "        # Plot the predictions in red (predictions were made on the test data)\n",
    "        plt.scatter(test_data, predictions, c=\"r\", s=4, label=\"Predictions\")\n",
    "\n",
    "    # Show the legend\n",
    "    plt.legend(prop={\"size\": 14})\n",
    "\n",
    "plot_predictions()"
   ]
  },
  {
   "cell_type": "markdown",
   "metadata": {},
   "source": [
    "# 2. Model building\n",
    "\n",
    "- `torch.nn`: Contains all of the building blocks for computational graphs (essentially a series of computations executed in a particular way).\n",
    "\n",
    "- `torch.nn.Parameter`: Stores tensors that can be used with `nn.Module`. If `requires_grad=True` gradients (used for updating model parameters via gradient descent) are calculated automatically, this is often referred to as \"autograd\".\n",
    "\n",
    "- `torch.nn.Module`: The base class for all neural network modules, all the building blocks for neural networks are subclasses. If you're building a neural network in PyTorch, your models should subclass `nn.Module`. Requires a `forward()` method be implemented.\n",
    "\n",
    "- `torch.optim`: Contains various optimization algorithms (these tell the model parameters stored in `nn.Parameter` how to best change to improve gradient descent and in turn reduce the loss).\n",
    "\n",
    "- `def forward()`: All `nn.Module` subclasses require a `forward()` method, this defines the computation that will take place on the data passed to the particular `nn.Module` (e.g. the linear regression formula above)."
   ]
  },
  {
   "cell_type": "code",
   "execution_count": 5,
   "metadata": {},
   "outputs": [],
   "source": [
    "class LinearRegressionModel(nn.Module):\n",
    "    def __init__(self):\n",
    "        super().__init__()\n",
    "\n",
    "        # initialize the weights and bias\n",
    "        self.weights = nn.Parameter(torch.randn(1), requires_grad=True)\n",
    "        self.bias = nn.Parameter(torch.randn(1), requires_grad=True)\n",
    "\n",
    "    def forward(self, x: torch.Tensor) -> torch.Tensor:\n",
    "        return self.weights * x + self.bias"
   ]
  },
  {
   "cell_type": "markdown",
   "metadata": {},
   "source": [
    "Check model's parameters using `.parameters()`."
   ]
  },
  {
   "cell_type": "code",
   "execution_count": 6,
   "metadata": {},
   "outputs": [
    {
     "data": {
      "text/plain": [
       "[Parameter containing:\n",
       " tensor([0.3367], requires_grad=True),\n",
       " Parameter containing:\n",
       " tensor([0.1288], requires_grad=True)]"
      ]
     },
     "execution_count": 6,
     "metadata": {},
     "output_type": "execute_result"
    }
   ],
   "source": [
    "torch.manual_seed(42)\n",
    "model = LinearRegressionModel()\n",
    "\n",
    "list(model.parameters())"
   ]
  },
  {
   "cell_type": "markdown",
   "metadata": {},
   "source": [
    "Get the state (what the model contains) of the model using `.state_dict()`."
   ]
  },
  {
   "cell_type": "code",
   "execution_count": 7,
   "metadata": {},
   "outputs": [
    {
     "data": {
      "text/plain": [
       "OrderedDict([('weights', tensor([0.3367])), ('bias', tensor([0.1288]))])"
      ]
     },
     "execution_count": 7,
     "metadata": {},
     "output_type": "execute_result"
    }
   ],
   "source": [
    "model.state_dict()"
   ]
  },
  {
   "cell_type": "markdown",
   "metadata": {},
   "source": [
    "## Making predictions using torch.inference_mode()\n",
    "`torch.inference_mode()` turns off a bunch of things (like gradient tracking, which is necessary for training but not for inference) to make forward-passes (data going through the `forward()` method) faster."
   ]
  },
  {
   "cell_type": "code",
   "execution_count": 8,
   "metadata": {},
   "outputs": [
    {
     "name": "stdout",
     "output_type": "stream",
     "text": [
      "Number of testing samples: 10\n",
      "Number of predictions made: 10\n",
      "Predicted values:\n",
      "tensor([[0.2163],\n",
      "        [0.3780],\n",
      "        [0.1490],\n",
      "        [0.1557],\n",
      "        [0.4588],\n",
      "        [0.4049],\n",
      "        [0.1423],\n",
      "        [0.1827],\n",
      "        [0.3106],\n",
      "        [0.1692]])\n"
     ]
    }
   ],
   "source": [
    "with torch.inference_mode():\n",
    "    y_preds = model(X_test)\n",
    "\n",
    "# In older PyTorch code you might also see torch.no_grad() being used.\n",
    "# While torch.inference_mode() and torch.no_grad() do similar things, \n",
    "# torch.inference_mode() is newer, potentially faster and preferred.\n",
    "\n",
    "\n",
    "# Check the predictions\n",
    "print(f\"Number of testing samples: {len(X_test)}\") \n",
    "print(f\"Number of predictions made: {len(y_preds)}\")\n",
    "print(f\"Predicted values:\\n{y_preds}\")"
   ]
  },
  {
   "cell_type": "code",
   "execution_count": 9,
   "metadata": {},
   "outputs": [
    {
     "data": {
      "image/png": "[encoded data removed]",
      "text/plain": [
       "<Figure size 1000x700 with 1 Axes>"
      ]
     },
     "metadata": {},
     "output_type": "display_data"
    }
   ],
   "source": [
    "plot_predictions(predictions=y_preds)"
   ]
  },
  {
   "cell_type": "code",
   "execution_count": 10,
   "metadata": {},
   "outputs": [
    {
     "data": {
      "text/plain": [
       "tensor([[0.3137],\n",
       "        [0.3920],\n",
       "        [0.2810],\n",
       "        [0.2843],\n",
       "        [0.4312],\n",
       "        [0.4051],\n",
       "        [0.2777],\n",
       "        [0.2973],\n",
       "        [0.3594],\n",
       "        [0.2908]])"
      ]
     },
     "execution_count": 10,
     "metadata": {},
     "output_type": "execute_result"
    }
   ],
   "source": [
    "y_test - y_preds"
   ]
  },
  {
   "cell_type": "markdown",
   "metadata": {},
   "source": [
    "# 3. Model training\n",
    "We need to create a loss function and optimizer in PyTorch\n",
    "\n",
    "- **Loss function**: Measures how wrong your model's predictions. PyTorch has plenty of built-in loss functions in `torch.nn`.\n",
    "    - Mean absolute error (MAE) for regression problems (`torch.nn.L1Loss()`). \n",
    "    - Binary cross entropy for binary classification problems (`torch.nn.BCELoss()`).\n",
    "\n",
    "- **Optimizer**: Tells your model how to update its internal parameters to best lower the loss. You can find various optimization function implementations in `torch.optim`.\n",
    "    - Stochastic gradient descent (`torch.optim.SGD()`). \n",
    "    - Adam optimizer (`torch.optim.Adam()`)."
   ]
  },
  {
   "cell_type": "code",
   "execution_count": 11,
   "metadata": {},
   "outputs": [],
   "source": [
    "# Let's use MAE (which is under torch.nn.L1Loss()) in PyTorch as our loss function.\n",
    "# We'll use SGD, torch.optim.SGD(params, lr)\n",
    "# params is the target model parameters you'd like to optimize (e.g. the weights and bias values).\n",
    "# lr is the learning rate you'd like the optimizer to update the parameters at.\n",
    "\n",
    "# Loss function\n",
    "loss_fn = nn.L1Loss()\n",
    "\n",
    "# Optimizer\n",
    "optimizer = torch.optim.SGD(params=model.parameters(), lr=0.01)"
   ]
  },
  {
   "cell_type": "code",
   "execution_count": null,
   "metadata": {},
   "outputs": [
    {
     "name": "stdout",
     "output_type": "stream",
     "text": [
      "Epoch 0 - Training loss: 0.005132695194333792, Testing loss: 0.008146894164383411\n",
      "Epoch 10 - Training loss: 0.005132695194333792, Testing loss: 0.008146894164383411\n",
      "Epoch 20 - Training loss: 0.005132695194333792, Testing loss: 0.008146894164383411\n",
      "Epoch 30 - Training loss: 0.005132695194333792, Testing loss: 0.008146894164383411\n",
      "Epoch 40 - Training loss: 0.005132695194333792, Testing loss: 0.008146894164383411\n",
      "Epoch 50 - Training loss: 0.005132695194333792, Testing loss: 0.008146894164383411\n",
      "Epoch 60 - Training loss: 0.005132695194333792, Testing loss: 0.008146894164383411\n",
      "Epoch 70 - Training loss: 0.005132695194333792, Testing loss: 0.008146894164383411\n",
      "Epoch 80 - Training loss: 0.005132695194333792, Testing loss: 0.008146894164383411\n",
      "Epoch 90 - Training loss: 0.005132695194333792, Testing loss: 0.008146894164383411\n",
      "Epoch 100 - Training loss: 0.005132695194333792, Testing loss: 0.008146894164383411\n",
      "Epoch 110 - Training loss: 0.005132695194333792, Testing loss: 0.008146894164383411\n",
      "Epoch 120 - Training loss: 0.005132695194333792, Testing loss: 0.008146894164383411\n",
      "Epoch 130 - Training loss: 0.005132695194333792, Testing loss: 0.008146894164383411\n",
      "Epoch 140 - Training loss: 0.005132695194333792, Testing loss: 0.008146894164383411\n",
      "Epoch 150 - Training loss: 0.005132695194333792, Testing loss: 0.008146894164383411\n",
      "Epoch 160 - Training loss: 0.005132695194333792, Testing loss: 0.008146894164383411\n",
      "Epoch 170 - Training loss: 0.005132695194333792, Testing loss: 0.008146894164383411\n",
      "Epoch 180 - Training loss: 0.005132695194333792, Testing loss: 0.008146894164383411\n",
      "Epoch 190 - Training loss: 0.005132695194333792, Testing loss: 0.008146894164383411\n",
      "Epoch 200 - Training loss: 0.005132695194333792, Testing loss: 0.008146894164383411\n",
      "Epoch 210 - Training loss: 0.005132695194333792, Testing loss: 0.008146894164383411\n",
      "Epoch 220 - Training loss: 0.005132695194333792, Testing loss: 0.008146894164383411\n",
      "Epoch 230 - Training loss: 0.005132695194333792, Testing loss: 0.008146894164383411\n",
      "Epoch 240 - Training loss: 0.005132695194333792, Testing loss: 0.008146894164383411\n",
      "Epoch 250 - Training loss: 0.005132695194333792, Testing loss: 0.008146894164383411\n",
      "Epoch 260 - Training loss: 0.005132695194333792, Testing loss: 0.008146894164383411\n",
      "Epoch 270 - Training loss: 0.005132695194333792, Testing loss: 0.008146894164383411\n",
      "Epoch 280 - Training loss: 0.005132695194333792, Testing loss: 0.008146894164383411\n",
      "Epoch 290 - Training loss: 0.005132695194333792, Testing loss: 0.008146894164383411\n",
      "Epoch 300 - Training loss: 0.005132695194333792, Testing loss: 0.008146894164383411\n",
      "Epoch 310 - Training loss: 0.005132695194333792, Testing loss: 0.008146894164383411\n",
      "Epoch 320 - Training loss: 0.005132695194333792, Testing loss: 0.008146894164383411\n",
      "Epoch 330 - Training loss: 0.005132695194333792, Testing loss: 0.008146894164383411\n",
      "Epoch 340 - Training loss: 0.005132695194333792, Testing loss: 0.008146894164383411\n",
      "Epoch 350 - Training loss: 0.005132695194333792, Testing loss: 0.008146894164383411\n",
      "Epoch 360 - Training loss: 0.005132695194333792, Testing loss: 0.008146894164383411\n",
      "Epoch 370 - Training loss: 0.005132695194333792, Testing loss: 0.008146894164383411\n",
      "Epoch 380 - Training loss: 0.005132695194333792, Testing loss: 0.008146894164383411\n",
      "Epoch 390 - Training loss: 0.005132695194333792, Testing loss: 0.008146894164383411\n",
      "Epoch 400 - Training loss: 0.005132695194333792, Testing loss: 0.008146894164383411\n",
      "Epoch 410 - Training loss: 0.005132695194333792, Testing loss: 0.008146894164383411\n",
      "Epoch 420 - Training loss: 0.005132695194333792, Testing loss: 0.008146894164383411\n",
      "Epoch 430 - Training loss: 0.005132695194333792, Testing loss: 0.008146894164383411\n",
      "Epoch 440 - Training loss: 0.005132695194333792, Testing loss: 0.008146894164383411\n",
      "Epoch 450 - Training loss: 0.005132695194333792, Testing loss: 0.008146894164383411\n",
      "Epoch 460 - Training loss: 0.005132695194333792, Testing loss: 0.008146894164383411\n",
      "Epoch 470 - Training loss: 0.005132695194333792, Testing loss: 0.008146894164383411\n",
      "Epoch 480 - Training loss: 0.005132695194333792, Testing loss: 0.008146894164383411\n",
      "Epoch 490 - Training loss: 0.005132695194333792, Testing loss: 0.008146894164383411\n",
      "Epoch 500 - Training loss: 0.005132695194333792, Testing loss: 0.008146894164383411\n",
      "Epoch 510 - Training loss: 0.005132695194333792, Testing loss: 0.008146894164383411\n",
      "Epoch 520 - Training loss: 0.005132695194333792, Testing loss: 0.008146894164383411\n",
      "Epoch 530 - Training loss: 0.005132695194333792, Testing loss: 0.008146894164383411\n",
      "Epoch 540 - Training loss: 0.005132695194333792, Testing loss: 0.008146894164383411\n",
      "Epoch 550 - Training loss: 0.005132695194333792, Testing loss: 0.008146894164383411\n",
      "Epoch 560 - Training loss: 0.005132695194333792, Testing loss: 0.008146894164383411\n",
      "Epoch 570 - Training loss: 0.005132695194333792, Testing loss: 0.008146894164383411\n",
      "Epoch 580 - Training loss: 0.005132695194333792, Testing loss: 0.008146894164383411\n",
      "Epoch 590 - Training loss: 0.005132695194333792, Testing loss: 0.008146894164383411\n",
      "Epoch 600 - Training loss: 0.005132695194333792, Testing loss: 0.008146894164383411\n",
      "Epoch 610 - Training loss: 0.005132695194333792, Testing loss: 0.008146894164383411\n",
      "Epoch 620 - Training loss: 0.005132695194333792, Testing loss: 0.008146894164383411\n",
      "Epoch 630 - Training loss: 0.005132695194333792, Testing loss: 0.008146894164383411\n",
      "Epoch 640 - Training loss: 0.005132695194333792, Testing loss: 0.008146894164383411\n",
      "Epoch 650 - Training loss: 0.005132695194333792, Testing loss: 0.008146894164383411\n",
      "Epoch 660 - Training loss: 0.005132695194333792, Testing loss: 0.008146894164383411\n",
      "Epoch 670 - Training loss: 0.005132695194333792, Testing loss: 0.008146894164383411\n",
      "Epoch 680 - Training loss: 0.005132695194333792, Testing loss: 0.008146894164383411\n",
      "Epoch 690 - Training loss: 0.005132695194333792, Testing loss: 0.008146894164383411\n",
      "Epoch 700 - Training loss: 0.005132695194333792, Testing loss: 0.008146894164383411\n",
      "Epoch 710 - Training loss: 0.005132695194333792, Testing loss: 0.008146894164383411\n",
      "Epoch 720 - Training loss: 0.005132695194333792, Testing loss: 0.008146894164383411\n",
      "Epoch 730 - Training loss: 0.005132695194333792, Testing loss: 0.008146894164383411\n",
      "Epoch 740 - Training loss: 0.005132695194333792, Testing loss: 0.008146894164383411\n",
      "Epoch 750 - Training loss: 0.005132695194333792, Testing loss: 0.008146894164383411\n",
      "Epoch 760 - Training loss: 0.005132695194333792, Testing loss: 0.008146894164383411\n",
      "Epoch 770 - Training loss: 0.005132695194333792, Testing loss: 0.008146894164383411\n",
      "Epoch 780 - Training loss: 0.005132695194333792, Testing loss: 0.008146894164383411\n",
      "Epoch 790 - Training loss: 0.005132695194333792, Testing loss: 0.008146894164383411\n",
      "Epoch 800 - Training loss: 0.005132695194333792, Testing loss: 0.008146894164383411\n",
      "Epoch 810 - Training loss: 0.005132695194333792, Testing loss: 0.008146894164383411\n",
      "Epoch 820 - Training loss: 0.005132695194333792, Testing loss: 0.008146894164383411\n",
      "Epoch 830 - Training loss: 0.005132695194333792, Testing loss: 0.008146894164383411\n",
      "Epoch 840 - Training loss: 0.005132695194333792, Testing loss: 0.008146894164383411\n",
      "Epoch 850 - Training loss: 0.005132695194333792, Testing loss: 0.008146894164383411\n",
      "Epoch 860 - Training loss: 0.005132695194333792, Testing loss: 0.008146894164383411\n",
      "Epoch 870 - Training loss: 0.005132695194333792, Testing loss: 0.008146894164383411\n",
      "Epoch 880 - Training loss: 0.005132695194333792, Testing loss: 0.008146894164383411\n",
      "Epoch 890 - Training loss: 0.005132695194333792, Testing loss: 0.008146894164383411\n",
      "Epoch 900 - Training loss: 0.005132695194333792, Testing loss: 0.008146894164383411\n",
      "Epoch 910 - Training loss: 0.005132695194333792, Testing loss: 0.008146894164383411\n",
      "Epoch 920 - Training loss: 0.005132695194333792, Testing loss: 0.008146894164383411\n",
      "Epoch 930 - Training loss: 0.005132695194333792, Testing loss: 0.008146894164383411\n",
      "Epoch 940 - Training loss: 0.005132695194333792, Testing loss: 0.008146894164383411\n",
      "Epoch 950 - Training loss: 0.005132695194333792, Testing loss: 0.008146894164383411\n",
      "Epoch 960 - Training loss: 0.005132695194333792, Testing loss: 0.008146894164383411\n",
      "Epoch 970 - Training loss: 0.005132695194333792, Testing loss: 0.008146894164383411\n",
      "Epoch 980 - Training loss: 0.005132695194333792, Testing loss: 0.008146894164383411\n",
      "Epoch 990 - Training loss: 0.005132695194333792, Testing loss: 0.008146894164383411\n"
     ]
    }
   ],
   "source": [
    "torch.manual_seed(42)\n",
    "\n",
    "epochs = 100\n",
    "\n",
    "train_loss_values = []\n",
    "test_loss_values = []\n",
    "epoch_count = []\n",
    "\n",
    "for epoch in range(epochs):\n",
    "    model.train()\n",
    "\n",
    "    y_preds = model(X_train)\n",
    "    loss = loss_fn(y_preds, y_train)\n",
    "\n",
    "    # Zero out the gradients\n",
    "    optimizer.zero_grad()\n",
    "\n",
    "    # Calculate gradients\n",
    "    loss.backward()\n",
    "\n",
    "    # Update the weights\n",
    "    optimizer.step()\n",
    "\n",
    "    # Testing the model for every epoch\n",
    "    model.eval()\n",
    "    with torch.inference_mode():\n",
    "        test_preds = model(X_test)\n",
    "        test_loss = loss_fn(test_preds, y_test)\n",
    "\n",
    "        if (epoch % 10 == 0):\n",
    "            epoch_count.append(epoch)\n",
    "            train_loss_values.append(loss.detach().numpy())\n",
    "            test_loss_values.append(test_loss.detach().numpy())\n",
    "\n",
    "            print(f\"Epoch {epoch} - Training loss: {loss.item()}, Testing loss: {test_loss.item()}\")"
   ]
  },
  {
   "cell_type": "code",
   "execution_count": 19,
   "metadata": {},
   "outputs": [
    {
     "data": {
      "text/plain": [
       "<matplotlib.legend.Legend at 0x14ffc4370>"
      ]
     },
     "execution_count": 19,
     "metadata": {},
     "output_type": "execute_result"
    },
    {
     "data": {
      "image/png": "[encoded data removed]",
      "text/plain": [
       "<Figure size 640x480 with 1 Axes>"
      ]
     },
     "metadata": {},
     "output_type": "display_data"
    }
   ],
   "source": [
    "# Plot the loss curves\n",
    "plt.plot(epoch_count, train_loss_values, label=\"Train loss\")\n",
    "plt.plot(epoch_count, test_loss_values, label=\"Test loss\")\n",
    "plt.title(\"Training and test loss curves\")\n",
    "plt.ylabel(\"Loss\")\n",
    "plt.xlabel(\"Epochs\")\n",
    "plt.legend()"
   ]
  },
  {
   "cell_type": "code",
   "execution_count": 20,
   "metadata": {},
   "outputs": [
    {
     "name": "stdout",
     "output_type": "stream",
     "text": [
      "The model learned the following values for weights and bias:\n",
      "OrderedDict([('weights', tensor([0.4905])), ('bias', tensor([0.3998]))])\n",
      "\n",
      "And the original values for weights and bias are:\n",
      "weights: 0.5, bias: 0.4\n"
     ]
    }
   ],
   "source": [
    "# Find our model's learned parameters\n",
    "print(\"The model learned the following values for weights and bias:\")\n",
    "print(model.state_dict())\n",
    "print(\"\\nAnd the original values for weights and bias are:\")\n",
    "print(f\"weights: {weight}, bias: {bias}\")"
   ]
  },
  {
   "cell_type": "markdown",
   "metadata": {},
   "source": [
    "# 4. Inference\n",
    "\n",
    "1. Set the model in evaluation mode (`model.eval()`).\n",
    "\n",
    "2. Make the predictions using the inference mode context manager (`with torch.inference_mode():`).\n",
    "\n",
    "3. All predictions should be made with objects on the same device (e.g. data and model on GPU only or data and model on CPU only)."
   ]
  },
  {
   "cell_type": "code",
   "execution_count": 21,
   "metadata": {},
   "outputs": [
    {
     "data": {
      "text/plain": [
       "tensor([[0.5273],\n",
       "        [0.7627],\n",
       "        [0.4292],\n",
       "        [0.4390],\n",
       "        [0.8805],\n",
       "        [0.8020],\n",
       "        [0.4194],\n",
       "        [0.4783],\n",
       "        [0.6647],\n",
       "        [0.4587]])"
      ]
     },
     "execution_count": 21,
     "metadata": {},
     "output_type": "execute_result"
    }
   ],
   "source": [
    "# Set the model in evaluation mode\n",
    "model.eval()\n",
    "\n",
    "# Setup the inference mode context manager\n",
    "with torch.inference_mode():\n",
    "    y_preds = model(X_test)\n",
    "\n",
    "y_preds"
   ]
  },
  {
   "cell_type": "code",
   "execution_count": 22,
   "metadata": {},
   "outputs": [
    {
     "data": {
      "image/png": "[encoded data removed]",
      "text/plain": [
       "<Figure size 1000x700 with 1 Axes>"
      ]
     },
     "metadata": {},
     "output_type": "display_data"
    }
   ],
   "source": [
    "plot_predictions(predictions=y_preds)"
   ]
  },
  {
   "cell_type": "markdown",
   "metadata": {},
   "source": [
    "# 5. Saving and loading a PyTorch model\n",
    "\n",
    "For saving and loading models in PyTorch, there are three main methods you should be aware of\n",
    "\n",
    "- `torch.save`: Saves a serialized object to disk using Python's pickle utility. Models, tensors and various other Python objects like dictionaries can be saved using `torch.save`.\n",
    "\n",
    "- `torch.load`: Uses pickle's unpickling features to deserialize and load pickled Python object files (like models, tensors or dictionaries) into memory. You can also set which device to load the object to (CPU, GPU etc).\n",
    "\n",
    "- `torch.nn.Module.load_state_dict`: Loads a model's parameter dictionary (`model.state_dict()`) using a saved `state_dict()` object."
   ]
  },
  {
   "cell_type": "markdown",
   "metadata": {},
   "source": [
    "The recommended way for saving and loading a model for inference (making predictions) is by saving and loading a model's `state_dict()`."
   ]
  },
  {
   "cell_type": "code",
   "execution_count": 25,
   "metadata": {},
   "outputs": [
    {
     "name": "stdout",
     "output_type": "stream",
     "text": [
      "Saving model to: models/linear_regression_model.pth\n"
     ]
    }
   ],
   "source": [
    "import os\n",
    "\n",
    "os.makedirs(\"models\", exist_ok=True)\n",
    "\n",
    "model_save_path = os.path.join(\"models\", \"linear_regression_model.pth\")\n",
    "\n",
    "# 3. Save the model state dict \n",
    "print(f\"Saving model to: {model_save_path}\")\n",
    "torch.save(obj=model.state_dict(), # only saving the state_dict() only saves the models learned parameters\n",
    "           f=model_save_path) "
   ]
  },
  {
   "cell_type": "markdown",
   "metadata": {},
   "source": [
    "## Why not save the entire model?\n",
    "Saving the entire model rather than just the `state_dict()` is more intuitive, however, to quote the PyTorch documentation (italics mine):\n",
    "\n",
    "*The disadvantage of this approach (saving the whole model) is that the serialized data is bound to the specific classes and the exact directory structure used when the model is saved...*\n",
    "\n",
    "*Because of this, your code can break in various ways when used in other projects or after refactors.*"
   ]
  },
  {
   "cell_type": "code",
   "execution_count": 28,
   "metadata": {},
   "outputs": [
    {
     "data": {
      "text/plain": [
       "<All keys matched successfully>"
      ]
     },
     "execution_count": 28,
     "metadata": {},
     "output_type": "execute_result"
    }
   ],
   "source": [
    "loaded_model = LinearRegressionModel()\n",
    "loaded_model.load_state_dict(torch.load(f=model_save_path, weights_only=True))"
   ]
  },
  {
   "cell_type": "code",
   "execution_count": 29,
   "metadata": {},
   "outputs": [
    {
     "data": {
      "text/plain": [
       "tensor([[True],\n",
       "        [True],\n",
       "        [True],\n",
       "        [True],\n",
       "        [True],\n",
       "        [True],\n",
       "        [True],\n",
       "        [True],\n",
       "        [True],\n",
       "        [True]])"
      ]
     },
     "execution_count": 29,
     "metadata": {},
     "output_type": "execute_result"
    }
   ],
   "source": [
    "loaded_model.eval()\n",
    "\n",
    "with torch.inference_mode():\n",
    "    loaded_model_preds = loaded_model(X_test)\n",
    "\n",
    "loaded_model_preds == y_preds"
   ]
  }
 ],
 "metadata": {
  "kernelspec": {
   "display_name": "Python 3",
   "language": "python",
   "name": "python3"
  },
  "language_info": {
   "codemirror_mode": {
    "name": "ipython",
    "version": 3
   },
   "file_extension": ".py",
   "mimetype": "text/x-python",
   "name": "python",
   "nbconvert_exporter": "python",
   "pygments_lexer": "ipython3",
   "version": "3.9.6"
  }
 },
 "nbformat": 4,
 "nbformat_minor": 2
}
