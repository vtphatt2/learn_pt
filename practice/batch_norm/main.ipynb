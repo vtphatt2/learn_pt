{
 "cells": [
  {
   "cell_type": "markdown",
   "metadata": {},
   "source": [
    "# Batch Normalization\n",
    "\n",
    "Batch normalization (also known as batch norm) is a method used to make training of artificial neural networks **faster** and **more stable** through normalization of the layers' inputs by re-centering and re-scaling."
   ]
  },
  {
   "cell_type": "markdown",
   "metadata": {},
   "source": [
    "## **Paper:** \"Batch Normalization: Accelerating Deep Network Training by Reducing Internal Covariate Shift\"\n",
    "\n",
    "**Abstract:** Training Deep Neural Networks is complicated by the fact that the distribution of each layer’s inputs changes during training, as the parameters of the previous layers change. This slows down the training by requiring lower learning rates and careful parameter initialization, and makes it notoriously hard to train models with saturating nonlinearities. We refer to this phenomenon as *internal covariate shift*, and address the problem by normalizing layer inputs. Our method draws its strength from making normalization a part of the model architecture and performing the normalization for each training mini-batch. **Batch Normalization allows us to use much higher learning rates and be less careful about initialization**. It also acts as a regularizer, in some cases eliminating the need for Dropout. Applied to a state-of-the-art image classification model, Batch Normalization achieves the same accuracy with 14 times fewer training steps, and beats the original model by a significant margin. Using an ensemble of batch- normalized networks, we improve upon the best published result on ImageNet classification: reaching 4.9% top-5 validation error (and 4.8% test error), exceeding the accuracy of human raters."
   ]
  },
  {
   "cell_type": "markdown",
   "metadata": {},
   "source": [
    "## Normalization\n",
    "The formula for Batch Normalization for a given mini-batch $B = \\{ x_1, x_2, ..., x_n \\}$ is as follows:\n",
    "\n",
    "$$\\hat{x_i} = \\dfrac{x_i - \\mu_B}{\\sqrt{\\sigma_B^2 + \\varepsilon}}$$\n",
    "\n",
    "- $x_i$ is an input from the mini-batch.\n",
    "- $\\mu_B$ is the mean of the mini-batch.\n",
    "- $\\sigma_B^2$ is the variance of the mini-batch.\n",
    "- $\\varepsilon$ is a small constant added to prevent division by zero.\n",
    "- $\\hat{x_i}$ is the normalized input.\n",
    "\n",
    "\n",
    "## Scale and Shift (Learnable Parameters)\n",
    "After normalization, Batch Norm introduces two parameters: gamma (scale) and beta (shift). These are learned during training and allow the network to scale and shift the normalized values, which ensures that the network can still represent complex patterns after normalization.\n",
    "\n",
    "$$y_i = \\gamma \\hat{x_i} + \\beta$$\n",
    "\n",
    "where $\\gamma$ and $\\beta$ are learned parameters (scaling and shifting)."
   ]
  },
  {
   "cell_type": "code",
   "execution_count": 1,
   "metadata": {},
   "outputs": [],
   "source": [
    "import torch\n",
    "from practice.batch_norm.batch_norm import BatchNorm"
   ]
  },
  {
   "cell_type": "code",
   "execution_count": 2,
   "metadata": {},
   "outputs": [
    {
     "data": {
      "text/plain": [
       "torch.Size([32, 64])"
      ]
     },
     "execution_count": 2,
     "metadata": {},
     "output_type": "execute_result"
    }
   ],
   "source": [
    "batch_size = 32\n",
    "num_features = 64\n",
    "x = torch.randn(batch_size, num_features)\n",
    "\n",
    "batch_norm = BatchNorm(num_features)\n",
    "output = batch_norm(x)\n",
    "\n",
    "output.shape"
   ]
  }
 ],
 "metadata": {
  "kernelspec": {
   "display_name": "Python 3",
   "language": "python",
   "name": "python3"
  },
  "language_info": {
   "codemirror_mode": {
    "name": "ipython",
    "version": 3
   },
   "file_extension": ".py",
   "mimetype": "text/x-python",
   "name": "python",
   "nbconvert_exporter": "python",
   "pygments_lexer": "ipython3",
   "version": "3.9.6"
  }
 },
 "nbformat": 4,
 "nbformat_minor": 2
}
